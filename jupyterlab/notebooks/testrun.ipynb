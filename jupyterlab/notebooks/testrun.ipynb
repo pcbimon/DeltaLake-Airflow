{
 "cells": [
  {
   "cell_type": "code",
   "execution_count": 1,
   "id": "22be7302-acbf-49cd-87d2-6c4b6d8c7b06",
   "metadata": {},
   "outputs": [],
   "source": [
    "import delta_sharing"
   ]
  },
  {
   "cell_type": "code",
   "execution_count": 2,
   "id": "ab70b988-a404-49ce-8c2c-24bbe2940603",
   "metadata": {},
   "outputs": [],
   "source": [
    "# Point to the profile file. It can be a file on the local file system or a file on a remote storage.\n",
    "profile_file = \"/home/jovyan/work/open-datasets.share\""
   ]
  },
  {
   "cell_type": "code",
   "execution_count": 3,
   "id": "3729d181-89ca-4842-8717-7f08c0757df3",
   "metadata": {},
   "outputs": [],
   "source": [
    "# Create a SharingClient.\n",
    "client = delta_sharing.SharingClient(profile_file)"
   ]
  },
  {
   "cell_type": "code",
   "execution_count": 4,
   "id": "e4ca0cd8-47e7-49fc-a200-dace7bd45b80",
   "metadata": {},
   "outputs": [
    {
     "data": {
      "text/plain": [
       "[Table(name='delta-table', share='share1', schema='schema1')]"
      ]
     },
     "execution_count": 4,
     "metadata": {},
     "output_type": "execute_result"
    }
   ],
   "source": [
    "# List all shared tables.\n",
    "client.list_all_tables()"
   ]
  },
  {
   "cell_type": "code",
   "execution_count": 5,
   "id": "94ce1dcd-1c01-4239-92cb-6e97056eae0e",
   "metadata": {},
   "outputs": [],
   "source": [
    "# Create a url to access a shared table.\n",
    "# A table path is the profile file path following with `#` and the fully qualified name of a table \n",
    "# (`<share-name>.<schema-name>.<table-name>`).\n",
    "table_url = profile_file + \"#share1.schema1.delta-table\""
   ]
  },
  {
   "cell_type": "code",
   "execution_count": 6,
   "id": "f3fbce49-0a8d-455f-ae1d-4b423905eec2",
   "metadata": {},
   "outputs": [
    {
     "ename": "KeyboardInterrupt",
     "evalue": "",
     "output_type": "error",
     "traceback": [
      "\u001b[0;31m---------------------------------------------------------------------------\u001b[0m",
      "\u001b[0;31mHTTPError\u001b[0m                                 Traceback (most recent call last)",
      "File \u001b[0;32m~/.local/lib/python3.11/site-packages/delta_sharing/rest_client.py:102\u001b[0m, in \u001b[0;36mretry_with_exponential_backoff.<locals>.func_with_retry\u001b[0;34m(self, *arg, **kwargs)\u001b[0m\n\u001b[1;32m    101\u001b[0m \u001b[38;5;28;01mtry\u001b[39;00m:\n\u001b[0;32m--> 102\u001b[0m     \u001b[38;5;28;01mreturn\u001b[39;00m \u001b[43mfunc\u001b[49m\u001b[43m(\u001b[49m\u001b[38;5;28;43mself\u001b[39;49m\u001b[43m,\u001b[49m\u001b[43m \u001b[49m\u001b[38;5;241;43m*\u001b[39;49m\u001b[43marg\u001b[49m\u001b[43m,\u001b[49m\u001b[43m \u001b[49m\u001b[38;5;241;43m*\u001b[39;49m\u001b[38;5;241;43m*\u001b[39;49m\u001b[43mkwargs\u001b[49m\u001b[43m)\u001b[49m\n\u001b[1;32m    103\u001b[0m \u001b[38;5;28;01mexcept\u001b[39;00m \u001b[38;5;167;01mException\u001b[39;00m \u001b[38;5;28;01mas\u001b[39;00m e:\n",
      "File \u001b[0;32m~/.local/lib/python3.11/site-packages/delta_sharing/rest_client.py:343\u001b[0m, in \u001b[0;36mDataSharingRestClient.autoresolve_query_format\u001b[0;34m(self, table)\u001b[0m\n\u001b[1;32m    341\u001b[0m \u001b[38;5;28mself\u001b[39m\u001b[38;5;241m.\u001b[39mset_sharing_capabilities_header()\n\u001b[0;32m--> 343\u001b[0m \u001b[43m\u001b[49m\u001b[38;5;28;43;01mwith\u001b[39;49;00m\u001b[43m \u001b[49m\u001b[38;5;28;43mself\u001b[39;49m\u001b[38;5;241;43m.\u001b[39;49m\u001b[43m_get_internal\u001b[49m\u001b[43m(\u001b[49m\n\u001b[1;32m    344\u001b[0m \u001b[43m    \u001b[49m\u001b[38;5;124;43mf\u001b[39;49m\u001b[38;5;124;43m\"\u001b[39;49m\u001b[38;5;124;43m/shares/\u001b[39;49m\u001b[38;5;132;43;01m{\u001b[39;49;00m\u001b[43mtable\u001b[49m\u001b[38;5;241;43m.\u001b[39;49m\u001b[43mshare\u001b[49m\u001b[38;5;132;43;01m}\u001b[39;49;00m\u001b[38;5;124;43m/schemas/\u001b[39;49m\u001b[38;5;132;43;01m{\u001b[39;49;00m\u001b[43mtable\u001b[49m\u001b[38;5;241;43m.\u001b[39;49m\u001b[43mschema\u001b[49m\u001b[38;5;132;43;01m}\u001b[39;49;00m\u001b[38;5;124;43m/tables/\u001b[39;49m\u001b[38;5;132;43;01m{\u001b[39;49;00m\u001b[43mtable\u001b[49m\u001b[38;5;241;43m.\u001b[39;49m\u001b[43mname\u001b[49m\u001b[38;5;132;43;01m}\u001b[39;49;00m\u001b[38;5;124;43m/metadata\u001b[39;49m\u001b[38;5;124;43m\"\u001b[39;49m\u001b[43m,\u001b[49m\n\u001b[1;32m    345\u001b[0m \u001b[43m    \u001b[49m\u001b[43mreturn_headers\u001b[49m\u001b[38;5;241;43m=\u001b[39;49m\u001b[38;5;28;43;01mTrue\u001b[39;49;00m\n\u001b[1;32m    346\u001b[0m \u001b[43m\u001b[49m\u001b[43m)\u001b[49m\u001b[43m \u001b[49m\u001b[38;5;28;43;01mas\u001b[39;49;00m\u001b[43m \u001b[49m\u001b[43mvalues\u001b[49m\u001b[43m:\u001b[49m\n\u001b[1;32m    347\u001b[0m \u001b[43m    \u001b[49m\u001b[38;5;66;43;03m# removing the client-reader-features that were set to avoid diverging standard codepath\u001b[39;49;00m\n\u001b[1;32m    348\u001b[0m \u001b[43m    \u001b[49m\u001b[38;5;28;43mself\u001b[39;49m\u001b[38;5;241;43m.\u001b[39;49m\u001b[43mremove_sharing_capabilities_header\u001b[49m\u001b[43m(\u001b[49m\u001b[43m)\u001b[49m\n",
      "File \u001b[0;32m/opt/conda/lib/python3.11/contextlib.py:137\u001b[0m, in \u001b[0;36m_GeneratorContextManager.__enter__\u001b[0;34m(self)\u001b[0m\n\u001b[1;32m    136\u001b[0m \u001b[38;5;28;01mtry\u001b[39;00m:\n\u001b[0;32m--> 137\u001b[0m     \u001b[38;5;28;01mreturn\u001b[39;00m \u001b[38;5;28mnext\u001b[39m(\u001b[38;5;28mself\u001b[39m\u001b[38;5;241m.\u001b[39mgen)\n\u001b[1;32m    138\u001b[0m \u001b[38;5;28;01mexcept\u001b[39;00m \u001b[38;5;167;01mStopIteration\u001b[39;00m:\n",
      "File \u001b[0;32m~/.local/lib/python3.11/site-packages/delta_sharing/rest_client.py:523\u001b[0m, in \u001b[0;36mDataSharingRestClient._request_internal\u001b[0;34m(self, request, return_headers, target, **kwargs)\u001b[0m\n\u001b[1;32m    522\u001b[0m         \u001b[38;5;28;01mpass\u001b[39;00m\n\u001b[0;32m--> 523\u001b[0m     \u001b[38;5;28;01mraise\u001b[39;00m HTTPError(message, response\u001b[38;5;241m=\u001b[39me\u001b[38;5;241m.\u001b[39mresponse) \u001b[38;5;28;01mfrom\u001b[39;00m \u001b[38;5;28;01mNone\u001b[39;00m\n\u001b[1;32m    524\u001b[0m \u001b[38;5;28;01mfinally\u001b[39;00m:\n",
      "\u001b[0;31mHTTPError\u001b[0m: 500 Server Error: Internal Server Error for url: http://10.34.10.3:8080/delta-sharing/shares/share1/schemas/schema1/tables/delta-table/metadata\n Response from server: \n {'errorCode': 'INTERNAL_ERROR', 'message': ''}",
      "\nDuring handling of the above exception, another exception occurred:\n",
      "\u001b[0;31mKeyboardInterrupt\u001b[0m                         Traceback (most recent call last)",
      "Cell \u001b[0;32mIn[6], line 3\u001b[0m\n\u001b[1;32m      1\u001b[0m \u001b[38;5;66;03m# Fetch 10 rows from a table and convert it to a Pandas DataFrame. This can be used to read sample data \u001b[39;00m\n\u001b[1;32m      2\u001b[0m \u001b[38;5;66;03m# from a table that cannot fit in the memory.\u001b[39;00m\n\u001b[0;32m----> 3\u001b[0m \u001b[43mdelta_sharing\u001b[49m\u001b[38;5;241;43m.\u001b[39;49m\u001b[43mload_as_pandas\u001b[49m\u001b[43m(\u001b[49m\u001b[43mtable_url\u001b[49m\u001b[43m,\u001b[49m\u001b[43m \u001b[49m\u001b[43mlimit\u001b[49m\u001b[38;5;241;43m=\u001b[39;49m\u001b[38;5;241;43m10\u001b[39;49m\u001b[43m)\u001b[49m\n",
      "File \u001b[0;32m~/.local/lib/python3.11/site-packages/delta_sharing/delta_sharing.py:131\u001b[0m, in \u001b[0;36mload_as_pandas\u001b[0;34m(url, limit, version, timestamp, jsonPredicateHints, use_delta_format)\u001b[0m\n\u001b[1;32m    121\u001b[0m profile_json, share, schema, table \u001b[38;5;241m=\u001b[39m _parse_url(url)\n\u001b[1;32m    122\u001b[0m profile \u001b[38;5;241m=\u001b[39m DeltaSharingProfile\u001b[38;5;241m.\u001b[39mread_from_file(profile_json)\n\u001b[1;32m    123\u001b[0m \u001b[38;5;28;01mreturn\u001b[39;00m \u001b[43mDeltaSharingReader\u001b[49m\u001b[43m(\u001b[49m\n\u001b[1;32m    124\u001b[0m \u001b[43m    \u001b[49m\u001b[43mtable\u001b[49m\u001b[38;5;241;43m=\u001b[39;49m\u001b[43mTable\u001b[49m\u001b[43m(\u001b[49m\u001b[43mname\u001b[49m\u001b[38;5;241;43m=\u001b[39;49m\u001b[43mtable\u001b[49m\u001b[43m,\u001b[49m\u001b[43m \u001b[49m\u001b[43mshare\u001b[49m\u001b[38;5;241;43m=\u001b[39;49m\u001b[43mshare\u001b[49m\u001b[43m,\u001b[49m\u001b[43m \u001b[49m\u001b[43mschema\u001b[49m\u001b[38;5;241;43m=\u001b[39;49m\u001b[43mschema\u001b[49m\u001b[43m)\u001b[49m\u001b[43m,\u001b[49m\n\u001b[1;32m    125\u001b[0m \u001b[43m    \u001b[49m\u001b[43mrest_client\u001b[49m\u001b[38;5;241;43m=\u001b[39;49m\u001b[43mDataSharingRestClient\u001b[49m\u001b[43m(\u001b[49m\u001b[43mprofile\u001b[49m\u001b[43m)\u001b[49m\u001b[43m,\u001b[49m\n\u001b[1;32m    126\u001b[0m \u001b[43m    \u001b[49m\u001b[43mjsonPredicateHints\u001b[49m\u001b[38;5;241;43m=\u001b[39;49m\u001b[43mjsonPredicateHints\u001b[49m\u001b[43m,\u001b[49m\n\u001b[1;32m    127\u001b[0m \u001b[43m    \u001b[49m\u001b[43mlimit\u001b[49m\u001b[38;5;241;43m=\u001b[39;49m\u001b[43mlimit\u001b[49m\u001b[43m,\u001b[49m\n\u001b[1;32m    128\u001b[0m \u001b[43m    \u001b[49m\u001b[43mversion\u001b[49m\u001b[38;5;241;43m=\u001b[39;49m\u001b[43mversion\u001b[49m\u001b[43m,\u001b[49m\n\u001b[1;32m    129\u001b[0m \u001b[43m    \u001b[49m\u001b[43mtimestamp\u001b[49m\u001b[38;5;241;43m=\u001b[39;49m\u001b[43mtimestamp\u001b[49m\u001b[43m,\u001b[49m\n\u001b[1;32m    130\u001b[0m \u001b[43m    \u001b[49m\u001b[43muse_delta_format\u001b[49m\u001b[38;5;241;43m=\u001b[39;49m\u001b[43muse_delta_format\u001b[49m\n\u001b[0;32m--> 131\u001b[0m \u001b[43m\u001b[49m\u001b[43m)\u001b[49m\u001b[38;5;241;43m.\u001b[39;49m\u001b[43mto_pandas\u001b[49m\u001b[43m(\u001b[49m\u001b[43m)\u001b[49m\n",
      "File \u001b[0;32m~/.local/lib/python3.11/site-packages/delta_sharing/reader.py:181\u001b[0m, in \u001b[0;36mDeltaSharingReader.to_pandas\u001b[0;34m(self)\u001b[0m\n\u001b[1;32m    178\u001b[0m \u001b[38;5;66;03m# If client does not specify which format to use, autoresolve it.\u001b[39;00m\n\u001b[1;32m    179\u001b[0m \u001b[38;5;66;03m# Otherwise use the specified format.\u001b[39;00m\n\u001b[1;32m    180\u001b[0m \u001b[38;5;28;01mif\u001b[39;00m \u001b[38;5;28mself\u001b[39m\u001b[38;5;241m.\u001b[39m_use_delta_format \u001b[38;5;129;01mis\u001b[39;00m \u001b[38;5;28;01mNone\u001b[39;00m:\n\u001b[0;32m--> 181\u001b[0m     response_format \u001b[38;5;241m=\u001b[39m \u001b[38;5;28;43mself\u001b[39;49m\u001b[38;5;241;43m.\u001b[39;49m\u001b[43m_rest_client\u001b[49m\u001b[38;5;241;43m.\u001b[39;49m\u001b[43mautoresolve_query_format\u001b[49m\u001b[43m(\u001b[49m\u001b[38;5;28;43mself\u001b[39;49m\u001b[38;5;241;43m.\u001b[39;49m\u001b[43m_table\u001b[49m\u001b[43m)\u001b[49m\n\u001b[1;32m    182\u001b[0m \u001b[38;5;28;01melif\u001b[39;00m \u001b[38;5;28mself\u001b[39m\u001b[38;5;241m.\u001b[39m_use_delta_format:\n\u001b[1;32m    183\u001b[0m     response_format \u001b[38;5;241m=\u001b[39m response_format \u001b[38;5;241m=\u001b[39m DataSharingRestClient\u001b[38;5;241m.\u001b[39mDELTA_FORMAT\n",
      "File \u001b[0;32m~/.local/lib/python3.11/site-packages/delta_sharing/rest_client.py:106\u001b[0m, in \u001b[0;36mretry_with_exponential_backoff.<locals>.func_with_retry\u001b[0;34m(self, *arg, **kwargs)\u001b[0m\n\u001b[1;32m    104\u001b[0m \u001b[38;5;28;01mif\u001b[39;00m \u001b[38;5;28mself\u001b[39m\u001b[38;5;241m.\u001b[39m_should_retry(e) \u001b[38;5;129;01mand\u001b[39;00m times_retried \u001b[38;5;241m<\u001b[39m\u001b[38;5;241m=\u001b[39m \u001b[38;5;28mself\u001b[39m\u001b[38;5;241m.\u001b[39m_num_retries:\n\u001b[1;32m    105\u001b[0m     logging\u001b[38;5;241m.\u001b[39minfo(\u001b[38;5;124mf\u001b[39m\u001b[38;5;124m\"\u001b[39m\u001b[38;5;124mSleeping \u001b[39m\u001b[38;5;132;01m{\u001b[39;00msleep_ms\u001b[38;5;132;01m}\u001b[39;00m\u001b[38;5;124m to retry because of error \u001b[39m\u001b[38;5;132;01m{\u001b[39;00me\u001b[38;5;132;01m}\u001b[39;00m\u001b[38;5;124m\"\u001b[39m)\n\u001b[0;32m--> 106\u001b[0m     \u001b[38;5;28;43mself\u001b[39;49m\u001b[38;5;241;43m.\u001b[39;49m\u001b[43m_sleeper\u001b[49m\u001b[43m(\u001b[49m\u001b[43msleep_ms\u001b[49m\u001b[43m)\u001b[49m\n\u001b[1;32m    107\u001b[0m     sleep_ms \u001b[38;5;241m*\u001b[39m\u001b[38;5;241m=\u001b[39m \u001b[38;5;241m2\u001b[39m\n\u001b[1;32m    108\u001b[0m \u001b[38;5;28;01melif\u001b[39;00m \u001b[38;5;28mself\u001b[39m\u001b[38;5;241m.\u001b[39m_error_on_expired_token(e):\n",
      "File \u001b[0;32m~/.local/lib/python3.11/site-packages/delta_sharing/rest_client.py:153\u001b[0m, in \u001b[0;36mDataSharingRestClient.__init__.<locals>.<lambda>\u001b[0;34m(sleep_ms)\u001b[0m\n\u001b[1;32m    151\u001b[0m \u001b[38;5;28mself\u001b[39m\u001b[38;5;241m.\u001b[39m_profile \u001b[38;5;241m=\u001b[39m profile\n\u001b[1;32m    152\u001b[0m \u001b[38;5;28mself\u001b[39m\u001b[38;5;241m.\u001b[39m_num_retries \u001b[38;5;241m=\u001b[39m num_retries\n\u001b[0;32m--> 153\u001b[0m \u001b[38;5;28mself\u001b[39m\u001b[38;5;241m.\u001b[39m_sleeper \u001b[38;5;241m=\u001b[39m \u001b[38;5;28;01mlambda\u001b[39;00m sleep_ms: \u001b[43mtime\u001b[49m\u001b[38;5;241;43m.\u001b[39;49m\u001b[43msleep\u001b[49m\u001b[43m(\u001b[49m\u001b[43msleep_ms\u001b[49m\u001b[43m \u001b[49m\u001b[38;5;241;43m/\u001b[39;49m\u001b[43m \u001b[49m\u001b[38;5;241;43m1000\u001b[39;49m\u001b[43m)\u001b[49m\n\u001b[1;32m    154\u001b[0m \u001b[38;5;28mself\u001b[39m\u001b[38;5;241m.\u001b[39mauth_session(profile)\n",
      "\u001b[0;31mKeyboardInterrupt\u001b[0m: "
     ]
    }
   ],
   "source": [
    "# Fetch 10 rows from a table and convert it to a Pandas DataFrame. This can be used to read sample data \n",
    "# from a table that cannot fit in the memory.\n",
    "delta_sharing.load_as_pandas(table_url, limit=10)"
   ]
  },
  {
   "cell_type": "code",
   "execution_count": null,
   "id": "ad2b330d-5112-4566-b7c8-0d198b1302d3",
   "metadata": {},
   "outputs": [],
   "source": [
    "# Load a table as a Pandas DataFrame. This can be used to process tables that can fit in the memory.\n",
    "delta_sharing.load_as_pandas(table_url)"
   ]
  },
  {
   "cell_type": "code",
   "execution_count": null,
   "id": "4bf29bb1-d644-4b2c-9193-5e26277bc961",
   "metadata": {},
   "outputs": [],
   "source": [
    "# Load a table as a Pandas DataFrame explicitly using Delta Format\n",
    "delta_sharing.load_as_pandas(table_url, use_delta_format = True)"
   ]
  },
  {
   "cell_type": "code",
   "execution_count": null,
   "id": "ea22835c-7efb-4bb3-88e5-7c2d246391e4",
   "metadata": {},
   "outputs": [],
   "source": [
    "# If the code is running with PySpark, you can use `load_as_spark` to load the table as a Spark DataFrame.\n",
    "delta_sharing.load_as_spark(table_url)"
   ]
  }
 ],
 "metadata": {
  "kernelspec": {
   "display_name": "Python 3 (ipykernel)",
   "language": "python",
   "name": "python3"
  },
  "language_info": {
   "codemirror_mode": {
    "name": "ipython",
    "version": 3
   },
   "file_extension": ".py",
   "mimetype": "text/x-python",
   "name": "python",
   "nbconvert_exporter": "python",
   "pygments_lexer": "ipython3",
   "version": "3.11.6"
  }
 },
 "nbformat": 4,
 "nbformat_minor": 5
}
